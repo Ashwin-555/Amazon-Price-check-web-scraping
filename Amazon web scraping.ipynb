{
 "cells": [
  {
   "cell_type": "markdown",
   "id": "84b2ccc5-d207-474c-b5a0-8c55187b1142",
   "metadata": {},
   "source": [
    "# AMAZON PRICE CHECK PROJECT"
   ]
  },
  {
   "cell_type": "code",
   "execution_count": 6,
   "id": "1ec9f7c0-e3d6-483d-b28f-17c30d0b8f0e",
   "metadata": {},
   "outputs": [],
   "source": [
    "#Import web scraping libraries\n",
    "import requests\n",
    "from bs4 import BeautifulSoup\n",
    "import smtplib\n",
    "import socket"
   ]
  },
  {
   "cell_type": "code",
   "execution_count": 7,
   "id": "fc65f058-44bd-422a-9e5e-097eb9180ac5",
   "metadata": {},
   "outputs": [
    {
     "name": "stdout",
     "output_type": "stream",
     "text": [
      "Requirement already satisfied: lxml in c:\\users\\ashwin a k\\anaconda3\\lib\\site-packages (4.9.3)\n"
     ]
    }
   ],
   "source": [
    "!pip install lxml"
   ]
  },
  {
   "cell_type": "code",
   "execution_count": 8,
   "id": "bd2ec89b-63d1-44d6-98ee-89d4e96d4f60",
   "metadata": {},
   "outputs": [],
   "source": [
    "#extracting URL and host name\n",
    "URL=\"https://www.amazon.in/dp/B0CHX7STQQ\"\n",
    "header={'User-Agent':\"Mozilla/5.0 (Windows NT 10.0; Win64; x64) AppleWebKit/537.36 (KHTML, like Gecko) Chrome/126.0.0.0 Safari/537.36\"}\n",
    "page=requests.get(URL,headers=header)"
   ]
  },
  {
   "cell_type": "code",
   "execution_count": 9,
   "id": "abab9bbe-882a-43a0-8ccd-cddd1f3db455",
   "metadata": {},
   "outputs": [],
   "source": [
    "#function to check the price\n",
    "def check_price():\n",
    "      soup=BeautifulSoup(page.content,'html.parser') #page extracted by using beautifulsoup\n",
    "      title=soup.find(id=\"productTitle\").get_text()\n",
    "      print(\"PRODUCT NAME:\",title.strip())\n",
    "      price=soup.find(id=\"corePriceDisplay_desktop_feature_div\").get_text().strip() #price money found\n",
    "      r=price[1:7].replace(\",\",\".\")\n",
    "      converted=float(r)\n",
    "      if converted>80.000:\n",
    "          send_mail()\n",
    "      print(\"PRICE AMOUNT OF THE PRODUCT: \",converted)"
   ]
  },
  {
   "cell_type": "code",
   "execution_count": 10,
   "id": "7bc8570f-816a-4e72-8545-7ad1cd85110f",
   "metadata": {},
   "outputs": [
    {
     "name": "stdout",
     "output_type": "stream",
     "text": [
      "PRODUCT NAME: Apple iPhone 15 Plus (128 GB) - Black\n",
      "CREATED A SERVER!! <smtplib.SMTP object at 0x000001B89CC5D5D0>\n",
      "HEY MY MAIL IS SUCCESSFULLY SENT\n",
      "PRICE AMOUNT OF THE PRODUCT:  81.999\n"
     ]
    }
   ],
   "source": [
    "#function to send the E-Mail\n",
    "def send_mail():\n",
    "    server=smtplib.SMTP('smtp.gmail.com',587) #SMTP SERVER created\n",
    "    print(\"CREATED A SERVER!!\",server)\n",
    "    server.ehlo()                       #ehlo command\n",
    "    server.starttls()\n",
    "    server.ehlo()\n",
    "    server.login('ashwinsss555ak@gmail.com','vizg ayun jwmd nvse')\n",
    "    subject='Price fell down'\n",
    "    body='Check the amazon link https://www.amazon.in/dp/B0CHX7STQQ'\n",
    "    msg=f\"Subject: {subject}\\n\\n{body}\"\n",
    "    server.sendmail(\"ashwinsss555ak@gmail.com\",\"ashwinak09062005@gmail.com\",msg)\n",
    "    print(\"HEY MY MAIL IS SUCCESSFULLY SENT\")\n",
    "    server.quit()\n",
    "check_price()\n"
   ]
  },
  {
   "cell_type": "code",
   "execution_count": null,
   "id": "96e8fa8a-ab43-4ad0-a775-1ba28518ecdd",
   "metadata": {},
   "outputs": [],
   "source": []
  }
 ],
 "metadata": {
  "kernelspec": {
   "display_name": "Python 3 (ipykernel)",
   "language": "python",
   "name": "python3"
  },
  "language_info": {
   "codemirror_mode": {
    "name": "ipython",
    "version": 3
   },
   "file_extension": ".py",
   "mimetype": "text/x-python",
   "name": "python",
   "nbconvert_exporter": "python",
   "pygments_lexer": "ipython3",
   "version": "3.11.7"
  },
  "widgets": {
   "application/vnd.jupyter.widget-state+json": {
    "state": {},
    "version_major": 2,
    "version_minor": 0
   }
  }
 },
 "nbformat": 4,
 "nbformat_minor": 5
}
